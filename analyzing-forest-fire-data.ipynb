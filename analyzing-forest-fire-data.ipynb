{
 "cells": [
  {
   "cell_type": "markdown",
   "metadata": {},
   "source": [
    "### Data Source\n",
    "\n",
    "P. Cortez and A. Morais. A Data Mining Approach to Predict Forest Fires using Meteorological Data. \n",
    "  In J. Neves, M. F. Santos and J. Machado Eds., New Trends in Artificial Intelligence, \n",
    "  Proceedings of the 13th EPIA 2007 - Portuguese Conference on Artificial Intelligence, December, \n",
    "  Guimaraes, Portugal, pp. 512-523, 2007. APPIA, ISBN-13 978-989-95618-0-9. \n",
    "  Available at: http://www.dsi.uminho.pt/~pcortez/fires.pdf\n",
    "  \n",
    "### Field Definitions\n",
    "* X: X-axis spatial coordinate within the Montesinho park map: 1 to 9\n",
    "* Y: Y-axis spatial coordinate within the Montesinho park map: 2 to 9\n",
    "* month: Month of the year: 'jan' to 'dec'\n",
    "* day: Day of the week: 'mon' to 'sun'\n",
    "* FFMC: Fine Fuel Moisture Code index from the FWI system: 18.7 to 96.20\n",
    "* DMC: Duff Moisture Code index from the FWI system: 1.1 to 291.3\n",
    "* DC: Drought Code index from the FWI system: 7.9 to 860.6\n",
    "* ISI: Initial Spread Index from the FWI system: 0.0 to 56.10\n",
    "* temp: Temperature in Celsius degrees: 2.2 to 33.30\n",
    "* RH: Relative humidity in percentage: 15.0 to 100\n",
    "* wind: Wind speed in km/h: 0.40 to 9.40\n",
    "* rain: Outside rain in mm/m2 : 0.0 to 6.4\n",
    "* area: The burned area of the forest (in ha): 0.00 to 1090.84"
   ]
  },
  {
   "cell_type": "markdown",
   "metadata": {},
   "source": [
    "### Load Libraries"
   ]
  },
  {
   "cell_type": "code",
   "execution_count": 128,
   "metadata": {},
   "outputs": [],
   "source": [
    "library(\"readr\")\n",
    "library(\"dplyr\")\n",
    "library(\"ggplot2\")\n",
    "library(\"purrr\")\n",
    "library(\"repr\")\n",
    "\n",
    "options(repr.plot.width=6, repr.plot.height=3)"
   ]
  },
  {
   "cell_type": "markdown",
   "metadata": {},
   "source": [
    "### Load Data, Initial Exploration"
   ]
  },
  {
   "cell_type": "code",
   "execution_count": 62,
   "metadata": {},
   "outputs": [
    {
     "name": "stderr",
     "output_type": "stream",
     "text": [
      "Parsed with column specification:\n",
      "cols(\n",
      "  X = col_integer(),\n",
      "  Y = col_integer(),\n",
      "  month = col_character(),\n",
      "  day = col_character(),\n",
      "  FFMC = col_double(),\n",
      "  DMC = col_double(),\n",
      "  DC = col_double(),\n",
      "  ISI = col_double(),\n",
      "  temp = col_double(),\n",
      "  RH = col_integer(),\n",
      "  wind = col_double(),\n",
      "  rain = col_double(),\n",
      "  area = col_double()\n",
      ")\n"
     ]
    }
   ],
   "source": [
    "forest_fires <- read_csv(\"forestfires.csv\")"
   ]
  },
  {
   "cell_type": "code",
   "execution_count": 113,
   "metadata": {},
   "outputs": [
    {
     "data": {
      "text/html": [
       "<ol class=list-inline>\n",
       "\t<li>'X'</li>\n",
       "\t<li>'Y'</li>\n",
       "\t<li>'month'</li>\n",
       "\t<li>'day'</li>\n",
       "\t<li>'FFMC'</li>\n",
       "\t<li>'DMC'</li>\n",
       "\t<li>'DC'</li>\n",
       "\t<li>'ISI'</li>\n",
       "\t<li>'temp'</li>\n",
       "\t<li>'RH'</li>\n",
       "\t<li>'wind'</li>\n",
       "\t<li>'rain'</li>\n",
       "\t<li>'area'</li>\n",
       "</ol>\n"
      ],
      "text/latex": [
       "\\begin{enumerate*}\n",
       "\\item 'X'\n",
       "\\item 'Y'\n",
       "\\item 'month'\n",
       "\\item 'day'\n",
       "\\item 'FFMC'\n",
       "\\item 'DMC'\n",
       "\\item 'DC'\n",
       "\\item 'ISI'\n",
       "\\item 'temp'\n",
       "\\item 'RH'\n",
       "\\item 'wind'\n",
       "\\item 'rain'\n",
       "\\item 'area'\n",
       "\\end{enumerate*}\n"
      ],
      "text/markdown": [
       "1. 'X'\n",
       "2. 'Y'\n",
       "3. 'month'\n",
       "4. 'day'\n",
       "5. 'FFMC'\n",
       "6. 'DMC'\n",
       "7. 'DC'\n",
       "8. 'ISI'\n",
       "9. 'temp'\n",
       "10. 'RH'\n",
       "11. 'wind'\n",
       "12. 'rain'\n",
       "13. 'area'\n",
       "\n",
       "\n"
      ],
      "text/plain": [
       " [1] \"X\"     \"Y\"     \"month\" \"day\"   \"FFMC\"  \"DMC\"   \"DC\"    \"ISI\"   \"temp\" \n",
       "[10] \"RH\"    \"wind\"  \"rain\"  \"area\" "
      ]
     },
     "metadata": {},
     "output_type": "display_data"
    }
   ],
   "source": [
    "names(forest_fires)"
   ]
  },
  {
   "cell_type": "code",
   "execution_count": 114,
   "metadata": {},
   "outputs": [
    {
     "data": {
      "text/html": [
       "<table>\n",
       "<thead><tr><th scope=col>X</th><th scope=col>Y</th><th scope=col>month</th><th scope=col>day</th><th scope=col>FFMC</th><th scope=col>DMC</th><th scope=col>DC</th><th scope=col>ISI</th><th scope=col>temp</th><th scope=col>RH</th><th scope=col>wind</th><th scope=col>rain</th><th scope=col>area</th></tr></thead>\n",
       "<tbody>\n",
       "\t<tr><td>7    </td><td>5    </td><td>mar  </td><td>fri  </td><td>86.2 </td><td>26.2 </td><td> 94.3</td><td> 5.1 </td><td> 8.2 </td><td>51   </td><td>6.7  </td><td>0.0  </td><td>0    </td></tr>\n",
       "\t<tr><td>7    </td><td>4    </td><td>oct  </td><td>tue  </td><td>90.6 </td><td>35.4 </td><td>669.1</td><td> 6.7 </td><td>18.0 </td><td>33   </td><td>0.9  </td><td>0.0  </td><td>0    </td></tr>\n",
       "\t<tr><td>7    </td><td>4    </td><td>oct  </td><td>sat  </td><td>90.6 </td><td>43.7 </td><td>686.9</td><td> 6.7 </td><td>14.6 </td><td>33   </td><td>1.3  </td><td>0.0  </td><td>0    </td></tr>\n",
       "\t<tr><td>8    </td><td>6    </td><td>mar  </td><td>fri  </td><td>91.7 </td><td>33.3 </td><td> 77.5</td><td> 9.0 </td><td> 8.3 </td><td>97   </td><td>4.0  </td><td>0.2  </td><td>0    </td></tr>\n",
       "\t<tr><td>8    </td><td>6    </td><td>mar  </td><td>sun  </td><td>89.3 </td><td>51.3 </td><td>102.2</td><td> 9.6 </td><td>11.4 </td><td>99   </td><td>1.8  </td><td>0.0  </td><td>0    </td></tr>\n",
       "\t<tr><td>8    </td><td>6    </td><td>aug  </td><td>sun  </td><td>92.3 </td><td>85.3 </td><td>488.0</td><td>14.7 </td><td>22.2 </td><td>29   </td><td>5.4  </td><td>0.0  </td><td>0    </td></tr>\n",
       "</tbody>\n",
       "</table>\n"
      ],
      "text/latex": [
       "\\begin{tabular}{r|lllllllllllll}\n",
       " X & Y & month & day & FFMC & DMC & DC & ISI & temp & RH & wind & rain & area\\\\\n",
       "\\hline\n",
       "\t 7     & 5     & mar   & fri   & 86.2  & 26.2  &  94.3 &  5.1  &  8.2  & 51    & 6.7   & 0.0   & 0    \\\\\n",
       "\t 7     & 4     & oct   & tue   & 90.6  & 35.4  & 669.1 &  6.7  & 18.0  & 33    & 0.9   & 0.0   & 0    \\\\\n",
       "\t 7     & 4     & oct   & sat   & 90.6  & 43.7  & 686.9 &  6.7  & 14.6  & 33    & 1.3   & 0.0   & 0    \\\\\n",
       "\t 8     & 6     & mar   & fri   & 91.7  & 33.3  &  77.5 &  9.0  &  8.3  & 97    & 4.0   & 0.2   & 0    \\\\\n",
       "\t 8     & 6     & mar   & sun   & 89.3  & 51.3  & 102.2 &  9.6  & 11.4  & 99    & 1.8   & 0.0   & 0    \\\\\n",
       "\t 8     & 6     & aug   & sun   & 92.3  & 85.3  & 488.0 & 14.7  & 22.2  & 29    & 5.4   & 0.0   & 0    \\\\\n",
       "\\end{tabular}\n"
      ],
      "text/markdown": [
       "\n",
       "X | Y | month | day | FFMC | DMC | DC | ISI | temp | RH | wind | rain | area | \n",
       "|---|---|---|---|---|---|\n",
       "| 7     | 5     | mar   | fri   | 86.2  | 26.2  |  94.3 |  5.1  |  8.2  | 51    | 6.7   | 0.0   | 0     | \n",
       "| 7     | 4     | oct   | tue   | 90.6  | 35.4  | 669.1 |  6.7  | 18.0  | 33    | 0.9   | 0.0   | 0     | \n",
       "| 7     | 4     | oct   | sat   | 90.6  | 43.7  | 686.9 |  6.7  | 14.6  | 33    | 1.3   | 0.0   | 0     | \n",
       "| 8     | 6     | mar   | fri   | 91.7  | 33.3  |  77.5 |  9.0  |  8.3  | 97    | 4.0   | 0.2   | 0     | \n",
       "| 8     | 6     | mar   | sun   | 89.3  | 51.3  | 102.2 |  9.6  | 11.4  | 99    | 1.8   | 0.0   | 0     | \n",
       "| 8     | 6     | aug   | sun   | 92.3  | 85.3  | 488.0 | 14.7  | 22.2  | 29    | 5.4   | 0.0   | 0     | \n",
       "\n",
       "\n"
      ],
      "text/plain": [
       "  X Y month day FFMC DMC  DC    ISI  temp RH wind rain area\n",
       "1 7 5 mar   fri 86.2 26.2  94.3  5.1  8.2 51 6.7  0.0  0   \n",
       "2 7 4 oct   tue 90.6 35.4 669.1  6.7 18.0 33 0.9  0.0  0   \n",
       "3 7 4 oct   sat 90.6 43.7 686.9  6.7 14.6 33 1.3  0.0  0   \n",
       "4 8 6 mar   fri 91.7 33.3  77.5  9.0  8.3 97 4.0  0.2  0   \n",
       "5 8 6 mar   sun 89.3 51.3 102.2  9.6 11.4 99 1.8  0.0  0   \n",
       "6 8 6 aug   sun 92.3 85.3 488.0 14.7 22.2 29 5.4  0.0  0   "
      ]
     },
     "metadata": {},
     "output_type": "display_data"
    }
   ],
   "source": [
    "head(forest_fires)"
   ]
  },
  {
   "cell_type": "code",
   "execution_count": 115,
   "metadata": {},
   "outputs": [
    {
     "data": {
      "text/html": [
       "<table>\n",
       "<thead><tr><th scope=col>avg_ffmc</th><th scope=col>avg_dmc</th><th scope=col>avg_dc</th><th scope=col>avg_isi</th><th scope=col>avg_temp</th></tr></thead>\n",
       "<tbody>\n",
       "\t<tr><td>90.64468</td><td>110.8723</td><td>547.94  </td><td>9.021663</td><td>18.88917</td></tr>\n",
       "</tbody>\n",
       "</table>\n"
      ],
      "text/latex": [
       "\\begin{tabular}{r|lllll}\n",
       " avg\\_ffmc & avg\\_dmc & avg\\_dc & avg\\_isi & avg\\_temp\\\\\n",
       "\\hline\n",
       "\t 90.64468 & 110.8723 & 547.94   & 9.021663 & 18.88917\\\\\n",
       "\\end{tabular}\n"
      ],
      "text/markdown": [
       "\n",
       "avg_ffmc | avg_dmc | avg_dc | avg_isi | avg_temp | \n",
       "|---|\n",
       "| 90.64468 | 110.8723 | 547.94   | 9.021663 | 18.88917 | \n",
       "\n",
       "\n"
      ],
      "text/plain": [
       "  avg_ffmc avg_dmc  avg_dc avg_isi  avg_temp\n",
       "1 90.64468 110.8723 547.94 9.021663 18.88917"
      ]
     },
     "metadata": {},
     "output_type": "display_data"
    }
   ],
   "source": [
    "summarize(fires, avg_ffmc = mean(FFMC),\n",
    "          avg_dmc = mean(DMC),\n",
    "          avg_dc = mean(DC),\n",
    "          avg_isi = mean(ISI),\n",
    "          avg_temp = mean(temp))"
   ]
  },
  {
   "cell_type": "markdown",
   "metadata": {},
   "source": [
    "## Bar Chars"
   ]
  },
  {
   "cell_type": "markdown",
   "metadata": {},
   "source": [
    "### Bar Chart - Number of Fires by Month"
   ]
  },
  {
   "cell_type": "code",
   "execution_count": 65,
   "metadata": {},
   "outputs": [],
   "source": [
    "# Reorder months to chronological order\n",
    "forest_fires <- forest_fires %>%\n",
    "  mutate(month = factor(month, levels = c(\"jan\", \"feb\", \"mar\", \"apr\", \"may\", \"jun\", \"jul\", \"aug\", \"sep\", \"oct\", \"nov\", \"dec\")))"
   ]
  },
  {
   "cell_type": "code",
   "execution_count": 66,
   "metadata": {},
   "outputs": [],
   "source": [
    "fires_month <- forest_fires %>% group_by(month) %>% summarize(total_fires = n())"
   ]
  },
  {
   "cell_type": "code",
   "execution_count": 67,
   "metadata": {},
   "outputs": [
    {
     "data": {
      "text/html": [
       "<table>\n",
       "<thead><tr><th scope=col>month</th><th scope=col>total_fires</th></tr></thead>\n",
       "<tbody>\n",
       "\t<tr><td>jan</td><td> 2 </td></tr>\n",
       "\t<tr><td>feb</td><td>20 </td></tr>\n",
       "\t<tr><td>mar</td><td>54 </td></tr>\n",
       "\t<tr><td>apr</td><td> 9 </td></tr>\n",
       "\t<tr><td>may</td><td> 2 </td></tr>\n",
       "\t<tr><td>jun</td><td>17 </td></tr>\n",
       "</tbody>\n",
       "</table>\n"
      ],
      "text/latex": [
       "\\begin{tabular}{r|ll}\n",
       " month & total\\_fires\\\\\n",
       "\\hline\n",
       "\t jan &  2 \\\\\n",
       "\t feb & 20 \\\\\n",
       "\t mar & 54 \\\\\n",
       "\t apr &  9 \\\\\n",
       "\t may &  2 \\\\\n",
       "\t jun & 17 \\\\\n",
       "\\end{tabular}\n"
      ],
      "text/markdown": [
       "\n",
       "month | total_fires | \n",
       "|---|---|---|---|---|---|\n",
       "| jan |  2  | \n",
       "| feb | 20  | \n",
       "| mar | 54  | \n",
       "| apr |  9  | \n",
       "| may |  2  | \n",
       "| jun | 17  | \n",
       "\n",
       "\n"
      ],
      "text/plain": [
       "  month total_fires\n",
       "1 jan    2         \n",
       "2 feb   20         \n",
       "3 mar   54         \n",
       "4 apr    9         \n",
       "5 may    2         \n",
       "6 jun   17         "
      ]
     },
     "metadata": {},
     "output_type": "display_data"
    }
   ],
   "source": [
    "head(fires_month)"
   ]
  },
  {
   "cell_type": "code",
   "execution_count": 129,
   "metadata": {},
   "outputs": [
    {
     "data": {},
     "metadata": {},
     "output_type": "display_data"
    },
    {
     "data": {
      "image/png": "[encoded data removed]",
      "text/plain": [
       "plot without title"
      ]
     },
     "metadata": {},
     "output_type": "display_data"
    }
   ],
   "source": [
    "ggplot(data = fires_month) +\n",
    "    aes(x = month, y = total_fires) +\n",
    "    geom_bar(stat=\"identity\") +\n",
    "    labs(title = \"Number of Fires by Month\", x = \"Month\", y = \"Fires by Month\")"
   ]
  },
  {
   "cell_type": "markdown",
   "metadata": {},
   "source": [
    "The summer months in the Northern Hemisphere (August and September) have significantly more fires than other months. This could be due to higher temperatures and drier conditions."
   ]
  },
  {
   "cell_type": "markdown",
   "metadata": {},
   "source": [
    "### Bar Chart - Number of Fires by Day of Week"
   ]
  },
  {
   "cell_type": "code",
   "execution_count": 71,
   "metadata": {},
   "outputs": [],
   "source": [
    "# Reorder months to chronological order\n",
    "forest_fires <- forest_fires %>%\n",
    "  mutate(day = factor(day, levels = c(\"sun\", \"mon\", \"tue\", \"wed\", \"thu\", \"fri\", \"sat\")))"
   ]
  },
  {
   "cell_type": "code",
   "execution_count": 72,
   "metadata": {},
   "outputs": [],
   "source": [
    "fires_day <- forest_fires %>% group_by(day) %>% summarize(total_fires = n())"
   ]
  },
  {
   "cell_type": "code",
   "execution_count": 74,
   "metadata": {},
   "outputs": [
    {
     "data": {
      "text/html": [
       "<table>\n",
       "<thead><tr><th scope=col>day</th><th scope=col>total_fires</th></tr></thead>\n",
       "<tbody>\n",
       "\t<tr><td>sun</td><td>95 </td></tr>\n",
       "\t<tr><td>mon</td><td>74 </td></tr>\n",
       "\t<tr><td>tue</td><td>64 </td></tr>\n",
       "\t<tr><td>wed</td><td>54 </td></tr>\n",
       "\t<tr><td>thu</td><td>61 </td></tr>\n",
       "\t<tr><td>fri</td><td>85 </td></tr>\n",
       "</tbody>\n",
       "</table>\n"
      ],
      "text/latex": [
       "\\begin{tabular}{r|ll}\n",
       " day & total\\_fires\\\\\n",
       "\\hline\n",
       "\t sun & 95 \\\\\n",
       "\t mon & 74 \\\\\n",
       "\t tue & 64 \\\\\n",
       "\t wed & 54 \\\\\n",
       "\t thu & 61 \\\\\n",
       "\t fri & 85 \\\\\n",
       "\\end{tabular}\n"
      ],
      "text/markdown": [
       "\n",
       "day | total_fires | \n",
       "|---|---|---|---|---|---|\n",
       "| sun | 95  | \n",
       "| mon | 74  | \n",
       "| tue | 64  | \n",
       "| wed | 54  | \n",
       "| thu | 61  | \n",
       "| fri | 85  | \n",
       "\n",
       "\n"
      ],
      "text/plain": [
       "  day total_fires\n",
       "1 sun 95         \n",
       "2 mon 74         \n",
       "3 tue 64         \n",
       "4 wed 54         \n",
       "5 thu 61         \n",
       "6 fri 85         "
      ]
     },
     "metadata": {},
     "output_type": "display_data"
    }
   ],
   "source": [
    "head(fires_day)"
   ]
  },
  {
   "cell_type": "code",
   "execution_count": 134,
   "metadata": {
    "scrolled": true
   },
   "outputs": [
    {
     "data": {},
     "metadata": {},
     "output_type": "display_data"
    },
    {
     "data": {
      "image/png": "[encoded data removed]",
      "text/plain": [
       "plot without title"
      ]
     },
     "metadata": {},
     "output_type": "display_data"
    }
   ],
   "source": [
    "ggplot(data = fires_day) +\n",
    "    aes(x = day, y = total_fires) +\n",
    "    geom_bar(stat=\"identity\") +\n",
    "    labs(title = \"Number of Fires by Day of Week\", x = \"Day of Week\", y = \"Fires by Day of Week\")"
   ]
  },
  {
   "cell_type": "markdown",
   "metadata": {},
   "source": [
    "There are more fires during the weekend (Friday-Sunday), than during the weekday. This could be due to more visitors to the forests during the weekends."
   ]
  },
  {
   "cell_type": "markdown",
   "metadata": {},
   "source": [
    "## Boxplots"
   ]
  },
  {
   "cell_type": "code",
   "execution_count": 86,
   "metadata": {},
   "outputs": [],
   "source": [
    "create_boxplot = function(x_col, y_col) {\n",
    "    ggplot(data = forest_fires) +\n",
    "    aes_string(x = x_col, y = y_col) +\n",
    "    geom_boxplot()\n",
    "}"
   ]
  },
  {
   "cell_type": "markdown",
   "metadata": {},
   "source": [
    "### Boxplots - Metrics By Month"
   ]
  },
  {
   "cell_type": "code",
   "execution_count": 131,
   "metadata": {
    "scrolled": false
   },
   "outputs": [
    {
     "data": {
      "image/png": "[encoded data removed]",
      "text/plain": [
       "plot without title"
      ]
     },
     "metadata": {},
     "output_type": "display_data"
    },
    {
     "data": {
      "image/png": "[encoded data removed]",
      "text/plain": [
       "plot without title"
      ]
     },
     "metadata": {},
     "output_type": "display_data"
    },
    {
     "data": {
      "image/png": "[encoded data removed]",
      "text/plain": [
       "plot without title"
      ]
     },
     "metadata": {},
     "output_type": "display_data"
    },
    {
     "data": {
      "image/png": "[encoded data removed]",
      "text/plain": [
       "plot without title"
      ]
     },
     "metadata": {},
     "output_type": "display_data"
    },
    {
     "data": {
      "image/png": "[encoded data removed]",
      "text/plain": [
       "plot without title"
      ]
     },
     "metadata": {},
     "output_type": "display_data"
    },
    {
     "data": {
      "image/png": "[encoded data removed]",
      "text/plain": [
       "plot without title"
      ]
     },
     "metadata": {},
     "output_type": "display_data"
    },
    {
     "data": {
      "text/plain": [
       "[[1]]\n",
       "\n",
       "[[2]]\n",
       "\n",
       "[[3]]\n",
       "\n",
       "[[4]]\n",
       "\n",
       "[[5]]\n",
       "\n",
       "[[6]]\n",
       "\n",
       "[[7]]\n",
       "\n",
       "[[8]]\n"
      ]
     },
     "metadata": {},
     "output_type": "display_data"
    },
    {
     "data": {
      "image/png": "[encoded data removed]",
      "text/plain": [
       "plot without title"
      ]
     },
     "metadata": {},
     "output_type": "display_data"
    },
    {
     "data": {
      "image/png": "[encoded data removed]",
      "text/plain": [
       "plot without title"
      ]
     },
     "metadata": {},
     "output_type": "display_data"
    }
   ],
   "source": [
    "x_var_month <- names(forest_fires[3])\n",
    "y_var <- names(forest_fires[5:12])\n",
    "map2(x_var, y_var, create_boxplot)"
   ]
  },
  {
   "cell_type": "markdown",
   "metadata": {},
   "source": [
    "There are clear variations among months. For example, December has noticably higher winds while July and August have high temperatures."
   ]
  },
  {
   "cell_type": "markdown",
   "metadata": {},
   "source": [
    "### Boxplots - Metrics by Day of Week"
   ]
  },
  {
   "cell_type": "code",
   "execution_count": 132,
   "metadata": {
    "scrolled": false
   },
   "outputs": [
    {
     "data": {
      "image/png": "[encoded data removed]",
      "text/plain": [
       "plot without title"
      ]
     },
     "metadata": {},
     "output_type": "display_data"
    },
    {
     "data": {
      "image/png": "[encoded data removed]",
      "text/plain": [
       "plot without title"
      ]
     },
     "metadata": {},
     "output_type": "display_data"
    },
    {
     "data": {
      "image/png": "[encoded data removed]",
      "text/plain": [
       "plot without title"
      ]
     },
     "metadata": {},
     "output_type": "display_data"
    },
    {
     "data": {
      "image/png": "[encoded data removed]",
      "text/plain": [
       "plot without title"
      ]
     },
     "metadata": {},
     "output_type": "display_data"
    },
    {
     "data": {
      "image/png": "[encoded data removed]",
      "text/plain": [
       "plot without title"
      ]
     },
     "metadata": {},
     "output_type": "display_data"
    },
    {
     "data": {
      "image/png": "[encoded data removed]",
      "text/plain": [
       "plot without title"
      ]
     },
     "metadata": {},
     "output_type": "display_data"
    },
    {
     "data": {
      "text/plain": [
       "[[1]]\n",
       "\n",
       "[[2]]\n",
       "\n",
       "[[3]]\n",
       "\n",
       "[[4]]\n",
       "\n",
       "[[5]]\n",
       "\n",
       "[[6]]\n",
       "\n",
       "[[7]]\n",
       "\n",
       "[[8]]\n"
      ]
     },
     "metadata": {},
     "output_type": "display_data"
    },
    {
     "data": {
      "image/png": "[encoded data removed]",
      "text/plain": [
       "plot without title"
      ]
     },
     "metadata": {},
     "output_type": "display_data"
    },
    {
     "data": {
      "image/png": "[encoded data removed]",
      "text/plain": [
       "plot without title"
      ]
     },
     "metadata": {},
     "output_type": "display_data"
    }
   ],
   "source": [
    "x_var_day <- names(forest_fires[4])\n",
    "y_var <- names(forest_fires[5:12])\n",
    "map2(x_var_day, y_var, create_boxplot)"
   ]
  },
  {
   "cell_type": "markdown",
   "metadata": {},
   "source": [
    "The ranges of values seem to be fairly similar across the days of the week. There are also some high/low outliers."
   ]
  },
  {
   "cell_type": "markdown",
   "metadata": {},
   "source": [
    "## Scatterplots - Metrics vs. Area Burned"
   ]
  },
  {
   "cell_type": "code",
   "execution_count": 118,
   "metadata": {},
   "outputs": [],
   "source": [
    "create_scatter = function(x_col, y_col) {\n",
    "    ggplot(data = forest_fires) +\n",
    "    aes_string(x = x_col, y = y_col) +\n",
    "    geom_point(alpha = 0.3)\n",
    "}"
   ]
  },
  {
   "cell_type": "code",
   "execution_count": 135,
   "metadata": {},
   "outputs": [
    {
     "data": {
      "image/png": "[encoded data removed]",
      "text/plain": [
       "plot without title"
      ]
     },
     "metadata": {},
     "output_type": "display_data"
    },
    {
     "data": {
      "image/png": "[encoded data removed]",
      "text/plain": [
       "plot without title"
      ]
     },
     "metadata": {},
     "output_type": "display_data"
    },
    {
     "data": {
      "image/png": "[encoded data removed]",
      "text/plain": [
       "plot without title"
      ]
     },
     "metadata": {},
     "output_type": "display_data"
    },
    {
     "data": {
      "image/png": "[encoded data removed]",
      "text/plain": [
       "plot without title"
      ]
     },
     "metadata": {},
     "output_type": "display_data"
    },
    {
     "data": {
      "image/png": "[encoded data removed]",
      "text/plain": [
       "plot without title"
      ]
     },
     "metadata": {},
     "output_type": "display_data"
    },
    {
     "data": {
      "image/png": "[encoded data removed]",
      "text/plain": [
       "plot without title"
      ]
     },
     "metadata": {},
     "output_type": "display_data"
    },
    {
     "data": {
      "text/plain": [
       "[[1]]\n",
       "\n",
       "[[2]]\n",
       "\n",
       "[[3]]\n",
       "\n",
       "[[4]]\n",
       "\n",
       "[[5]]\n",
       "\n",
       "[[6]]\n",
       "\n",
       "[[7]]\n",
       "\n",
       "[[8]]\n"
      ]
     },
     "metadata": {},
     "output_type": "display_data"
    },
    {
     "data": {
      "image/png": "[encoded data removed]",
      "text/plain": [
       "plot without title"
      ]
     },
     "metadata": {},
     "output_type": "display_data"
    },
    {
     "data": {
      "image/png": "[encoded data removed]",
      "text/plain": [
       "plot without title"
      ]
     },
     "metadata": {},
     "output_type": "display_data"
    }
   ],
   "source": [
    "x_var_day <- names(forest_fires[5:12])\n",
    "y_var <- names(forest_fires[13])\n",
    "map2(x_var_day, y_var, create_scatter)"
   ]
  },
  {
   "cell_type": "markdown",
   "metadata": {},
   "source": [
    "### Histogram - Number of Fires by Area Burned"
   ]
  },
  {
   "cell_type": "code",
   "execution_count": 155,
   "metadata": {},
   "outputs": [
    {
     "data": {},
     "metadata": {},
     "output_type": "display_data"
    },
    {
     "data": {
      "image/png": "[encoded data removed]",
      "text/plain": [
       "plot without title"
      ]
     },
     "metadata": {},
     "output_type": "display_data"
    }
   ],
   "source": [
    "ggplot(data = forest_fires) +\n",
    "    aes(area) +\n",
    "    geom_histogram(bins = 30) +\n",
    "    labs(title = \"Number of Fires by Area Burned\", x = \"Area\", y = \"Number of Fires\")"
   ]
  },
  {
   "cell_type": "code",
   "execution_count": 164,
   "metadata": {},
   "outputs": [],
   "source": [
    "# All data except for rows with very high values of area\n",
    "fires_low_area <- forest_fires %>% filter(area < 100)\n",
    "\n",
    "# All data except for rows with zero values of area\n",
    "fires_non_zero_area <- forest_fires %>% filter(area > 0)\n",
    "\n",
    "# Data with values of area that fall within a specified range\n",
    "fires_5_25 <- forest_fires %>% filter(area > 5 & area < 25)"
   ]
  },
  {
   "cell_type": "code",
   "execution_count": 166,
   "metadata": {},
   "outputs": [
    {
     "data": {},
     "metadata": {},
     "output_type": "display_data"
    },
    {
     "data": {},
     "metadata": {},
     "output_type": "display_data"
    },
    {
     "data": {
      "image/png": "[encoded data removed]",
      "text/plain": [
       "plot without title"
      ]
     },
     "metadata": {},
     "output_type": "display_data"
    },
    {
     "data": {},
     "metadata": {},
     "output_type": "display_data"
    },
    {
     "data": {
      "image/png": "[encoded data removed]",
      "text/plain": [
       "plot without title"
      ]
     },
     "metadata": {},
     "output_type": "display_data"
    },
    {
     "data": {
      "image/png": "[encoded data removed]",
      "text/plain": [
       "plot without title"
      ]
     },
     "metadata": {},
     "output_type": "display_data"
    }
   ],
   "source": [
    "ggplot(data = fires_low_area) + aes(area) + geom_histogram(bins = 30) + labs(title = \"Fires with Area < 100 Hectares\", y = \"Number of Fires\")\n",
    "ggplot(data = fires_non_zero_area) + aes(area) + geom_histogram(bins = 30) + labs(title = \"Fires, Excluding 0 Area\", x = \"Area\", y = \"Number of Fires\")\n",
    "ggplot(data = fires_5_25) + aes(area) + geom_histogram(bins = 30) + labs(title = \"Fires with Area between 5-25 Hectares\", x = \"Area\", y = \"Number of Fires\")"
   ]
  },
  {
   "cell_type": "markdown",
   "metadata": {},
   "source": [
    "### Analysis next steps\n",
    "\n",
    "* Map fires geographically based on coordinates\n",
    "* Create regression models to estimate relationships and predict fires.\n",
    "* Use other data sets to compare against forest fires in other areas."
   ]
  }
 ],
 "metadata": {
  "kernelspec": {
   "display_name": "R",
   "language": "R",
   "name": "ir"
  },
  "language_info": {
   "codemirror_mode": "r",
   "file_extension": ".r",
   "mimetype": "text/x-r-source",
   "name": "R",
   "pygments_lexer": "r",
   "version": "3.5.1"
  }
 },
 "nbformat": 4,
 "nbformat_minor": 2
}
